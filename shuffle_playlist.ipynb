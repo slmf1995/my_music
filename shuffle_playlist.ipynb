{
 "cells": [
  {
   "cell_type": "markdown",
   "id": "89e2d467-a066-466d-9bbc-7e6267161614",
   "metadata": {},
   "source": [
    "# Shuffle playlist\n",
    "This notebook contains a Python script to shuffle the custom order of your Spotify playlist. By default, Spotify maintains a consistent ordering of tracks in a playlist, which can result in a predictable listening experience. This notebook solves this experience by providing a quick solution that reorders your tracks randomly.\n",
    "\n",
    "\n",
    "You'll need your own `CLIENT_ID`, `CLIENT_SECRET`, `USER_ID` and `REDIRECT_URI` credentials to proceed."
   ]
  },
  {
   "cell_type": "code",
   "execution_count": 1,
   "id": "8d4d165e-179e-4182-bc0e-b160c563e91e",
   "metadata": {
    "tags": []
   },
   "outputs": [],
   "source": [
    "import os\n",
    "import pandas as pd\n",
    "import re\n",
    "import requests\n",
    "import time\n",
    "import json\n",
    "from utils import *\n",
    "%load_ext dotenv\n",
    "%dotenv"
   ]
  },
  {
   "cell_type": "code",
   "execution_count": 2,
   "id": "f98617d2-8e88-491e-8da9-070f21cdb19c",
   "metadata": {
    "tags": []
   },
   "outputs": [],
   "source": [
    "# Retrieve credentials from the environment variables\n",
    "CLIENT_ID = os.environ['CLIENT_ID']\n",
    "CLIENT_SECRET = os.environ['CLIENT_SECRET']\n",
    "USER_ID = os.environ['USER_ID']\n",
    "REDIRECT_URI = os.environ['REDIRECT_URI']\n",
    "SCOPE = 'playlist-modify-public playlist-modify-private'"
   ]
  },
  {
   "cell_type": "markdown",
   "id": "267cb9b5-55d0-41b1-93c9-bc973d06a04c",
   "metadata": {},
   "source": [
    "# Get authorization\n",
    "Initiates the authorization flow for Spotify API using port 8889. It returns the callback URL to `callback_url` variable after the user grants access.\n",
    "\n",
    "The `CallbackHandler` class is designed to handle incoming GET requests to extract the callback URL."
   ]
  },
  {
   "cell_type": "code",
   "execution_count": 3,
   "id": "07112f2a-baab-4203-b173-f02059bb6f57",
   "metadata": {
    "tags": []
   },
   "outputs": [],
   "source": [
    "import http.server\n",
    "import socketserver\n",
    "import webbrowser"
   ]
  },
  {
   "cell_type": "code",
   "execution_count": 4,
   "id": "b42eddec-c0f3-40d8-b0e7-9bcd90835680",
   "metadata": {
    "tags": []
   },
   "outputs": [],
   "source": [
    "class CallbackHandler(http.server.SimpleHTTPRequestHandler):\n",
    "    def log_message(self, format, *args):\n",
    "        \"\"\"\n",
    "        Override log_message method to suppress server logs.\n",
    "        \"\"\"\n",
    "        pass\n",
    "    \n",
    "    def do_GET(self):\n",
    "        \"\"\"\n",
    "        Handle the GET request to extract the callback URL.\n",
    "        \"\"\"\n",
    "\n",
    "        # Declare callback_url as global to modify the global variable\n",
    "        global callback_url\n",
    "\n",
    "        self.send_response(200)\n",
    "        self.send_header('Content-type', 'text/html')\n",
    "        self.end_headers()\n",
    "\n",
    "        # Extract the callback URL from self.path\n",
    "        callback_url = self.path"
   ]
  },
  {
   "cell_type": "code",
   "execution_count": 5,
   "id": "c5d909c8-7781-4a51-a5fe-16ed417c1672",
   "metadata": {
    "tags": []
   },
   "outputs": [],
   "source": [
    "# Spotify authorization URL\n",
    "auth_url = 'https://accounts.spotify.com/authorize'\n",
    "callback_url = None\n",
    "\n",
    "# Parameters for the authorization request\n",
    "params = {\n",
    "    'client_id': CLIENT_ID,\n",
    "    'response_type': 'code',\n",
    "    'redirect_uri': REDIRECT_URI,\n",
    "    'scope': SCOPE\n",
    "}\n",
    "\n",
    "# Send the authorization request and get the response URL\n",
    "auth_response = requests.get(auth_url, params=params)\n",
    "auth_response_url = auth_response.url\n",
    "\n",
    "# Start the local server to handle the callback\n",
    "with socketserver.TCPServer(('localhost', 8889), CallbackHandler) as httpd:\n",
    "    # Open the authorization URL in a browser\n",
    "    webbrowser.open(auth_response_url)\n",
    "\n",
    "    # Handle a single request\n",
    "    httpd.handle_request()"
   ]
  },
  {
   "cell_type": "markdown",
   "id": "7f5e9cb0-7a37-45e2-a95f-2e11080b9f5c",
   "metadata": {},
   "source": [
    "# Generate access token"
   ]
  },
  {
   "cell_type": "code",
   "execution_count": 6,
   "id": "0226cde7-cdc8-484e-bb6d-8acff98a1fe6",
   "metadata": {
    "tags": []
   },
   "outputs": [],
   "source": [
    "AUTH_CODE = callback_url[15:]"
   ]
  },
  {
   "cell_type": "code",
   "execution_count": 7,
   "id": "9ca641e6-6695-4e6f-8667-87e0afb88c03",
   "metadata": {
    "tags": []
   },
   "outputs": [],
   "source": [
    "access_token = request_an_access_token(CLIENT_ID, CLIENT_SECRET, AUTH_CODE, REDIRECT_URI)"
   ]
  },
  {
   "cell_type": "markdown",
   "id": "2dd3646e-5f03-4a8e-8aa6-3a2bd9f93634",
   "metadata": {},
   "source": [
    "# Read data\n",
    "Remember to run `get_spotify_data.ipynb` first to have the most updated list of tracks in a playlist."
   ]
  },
  {
   "cell_type": "code",
   "execution_count": 8,
   "id": "d59a6e2f-984f-4205-9457-f9c1745fc73e",
   "metadata": {
    "tags": []
   },
   "outputs": [
    {
     "data": {
      "text/html": [
       "<div>\n",
       "<style scoped>\n",
       "    .dataframe tbody tr th:only-of-type {\n",
       "        vertical-align: middle;\n",
       "    }\n",
       "\n",
       "    .dataframe tbody tr th {\n",
       "        vertical-align: top;\n",
       "    }\n",
       "\n",
       "    .dataframe thead th {\n",
       "        text-align: right;\n",
       "    }\n",
       "</style>\n",
       "<table border=\"1\" class=\"dataframe\">\n",
       "  <thead>\n",
       "    <tr style=\"text-align: right;\">\n",
       "      <th></th>\n",
       "      <th>id</th>\n",
       "      <th>name</th>\n",
       "      <th>tracks.total</th>\n",
       "    </tr>\n",
       "  </thead>\n",
       "  <tbody>\n",
       "    <tr>\n",
       "      <th>0</th>\n",
       "      <td>13Qsm0axSPpL11U5yGhwFS</td>\n",
       "      <td>Awkward</td>\n",
       "      <td>2</td>\n",
       "    </tr>\n",
       "    <tr>\n",
       "      <th>1</th>\n",
       "      <td>730Ce3gbzbasRtac5l8eXs</td>\n",
       "      <td>My Songs</td>\n",
       "      <td>1076</td>\n",
       "    </tr>\n",
       "    <tr>\n",
       "      <th>2</th>\n",
       "      <td>2gibcQ6TCJyyQgdJaDNWsT</td>\n",
       "      <td>Nicole&amp;Shaun Wedding Playlist :)</td>\n",
       "      <td>106</td>\n",
       "    </tr>\n",
       "    <tr>\n",
       "      <th>3</th>\n",
       "      <td>78TQufEn9zE564Is7DKk46</td>\n",
       "      <td>Karaoke</td>\n",
       "      <td>10</td>\n",
       "    </tr>\n",
       "    <tr>\n",
       "      <th>4</th>\n",
       "      <td>6mAJ1EqzlLuD5o97BB1VNP</td>\n",
       "      <td>1) 29.10 Pre-walk in</td>\n",
       "      <td>16</td>\n",
       "    </tr>\n",
       "  </tbody>\n",
       "</table>\n",
       "</div>"
      ],
      "text/plain": [
       "                       id                              name  tracks.total\n",
       "0  13Qsm0axSPpL11U5yGhwFS                           Awkward             2\n",
       "1  730Ce3gbzbasRtac5l8eXs                          My Songs          1076\n",
       "2  2gibcQ6TCJyyQgdJaDNWsT  Nicole&Shaun Wedding Playlist :)           106\n",
       "3  78TQufEn9zE564Is7DKk46                           Karaoke            10\n",
       "4  6mAJ1EqzlLuD5o97BB1VNP              1) 29.10 Pre-walk in            16"
      ]
     },
     "execution_count": 8,
     "metadata": {},
     "output_type": "execute_result"
    }
   ],
   "source": [
    "df_playlist = pd.read_csv('./data/playlists.csv')\n",
    "df_playlist.head()"
   ]
  },
  {
   "cell_type": "code",
   "execution_count": 9,
   "id": "4ab97dab-d3c7-46b9-aa8b-08cc47cebf0a",
   "metadata": {},
   "outputs": [
    {
     "data": {
      "text/html": [
       "<div>\n",
       "<style scoped>\n",
       "    .dataframe tbody tr th:only-of-type {\n",
       "        vertical-align: middle;\n",
       "    }\n",
       "\n",
       "    .dataframe tbody tr th {\n",
       "        vertical-align: top;\n",
       "    }\n",
       "\n",
       "    .dataframe thead th {\n",
       "        text-align: right;\n",
       "    }\n",
       "</style>\n",
       "<table border=\"1\" class=\"dataframe\">\n",
       "  <thead>\n",
       "    <tr style=\"text-align: right;\">\n",
       "      <th></th>\n",
       "      <th>href</th>\n",
       "      <th>track.id</th>\n",
       "      <th>track.name</th>\n",
       "      <th>playlist_id</th>\n",
       "    </tr>\n",
       "  </thead>\n",
       "  <tbody>\n",
       "    <tr>\n",
       "      <th>0</th>\n",
       "      <td>https://api.spotify.com/v1/playlists/13Qsm0axS...</td>\n",
       "      <td>4CPYZtb4tX2V03jcsJAZCD</td>\n",
       "      <td>Where's Kevin (From 'Overcooked! 2')</td>\n",
       "      <td>13Qsm0axSPpL11U5yGhwFS</td>\n",
       "    </tr>\n",
       "    <tr>\n",
       "      <th>1</th>\n",
       "      <td>https://api.spotify.com/v1/playlists/13Qsm0axS...</td>\n",
       "      <td>4cmRCH5q4Mp5DKqsGkQ2eu</td>\n",
       "      <td>Super Mario Theme (From \"Super Mario\")</td>\n",
       "      <td>13Qsm0axSPpL11U5yGhwFS</td>\n",
       "    </tr>\n",
       "    <tr>\n",
       "      <th>2</th>\n",
       "      <td>https://api.spotify.com/v1/playlists/730Ce3gbz...</td>\n",
       "      <td>0VjIjW4GlUZAMYd2vXMi3b</td>\n",
       "      <td>Blinding Lights</td>\n",
       "      <td>730Ce3gbzbasRtac5l8eXs</td>\n",
       "    </tr>\n",
       "    <tr>\n",
       "      <th>3</th>\n",
       "      <td>https://api.spotify.com/v1/playlists/730Ce3gbz...</td>\n",
       "      <td>4jPy3l0RUwlUI9T5XHBW2m</td>\n",
       "      <td>Mood (feat. iann dior)</td>\n",
       "      <td>730Ce3gbzbasRtac5l8eXs</td>\n",
       "    </tr>\n",
       "    <tr>\n",
       "      <th>4</th>\n",
       "      <td>https://api.spotify.com/v1/playlists/730Ce3gbz...</td>\n",
       "      <td>2tGvwE8GcFKwNdAXMnlbfl</td>\n",
       "      <td>happier</td>\n",
       "      <td>730Ce3gbzbasRtac5l8eXs</td>\n",
       "    </tr>\n",
       "  </tbody>\n",
       "</table>\n",
       "</div>"
      ],
      "text/plain": [
       "                                                href                track.id   \n",
       "0  https://api.spotify.com/v1/playlists/13Qsm0axS...  4CPYZtb4tX2V03jcsJAZCD  \\\n",
       "1  https://api.spotify.com/v1/playlists/13Qsm0axS...  4cmRCH5q4Mp5DKqsGkQ2eu   \n",
       "2  https://api.spotify.com/v1/playlists/730Ce3gbz...  0VjIjW4GlUZAMYd2vXMi3b   \n",
       "3  https://api.spotify.com/v1/playlists/730Ce3gbz...  4jPy3l0RUwlUI9T5XHBW2m   \n",
       "4  https://api.spotify.com/v1/playlists/730Ce3gbz...  2tGvwE8GcFKwNdAXMnlbfl   \n",
       "\n",
       "                               track.name             playlist_id  \n",
       "0    Where's Kevin (From 'Overcooked! 2')  13Qsm0axSPpL11U5yGhwFS  \n",
       "1  Super Mario Theme (From \"Super Mario\")  13Qsm0axSPpL11U5yGhwFS  \n",
       "2                         Blinding Lights  730Ce3gbzbasRtac5l8eXs  \n",
       "3                  Mood (feat. iann dior)  730Ce3gbzbasRtac5l8eXs  \n",
       "4                                 happier  730Ce3gbzbasRtac5l8eXs  "
      ]
     },
     "execution_count": 9,
     "metadata": {},
     "output_type": "execute_result"
    }
   ],
   "source": [
    "df_tracks = pd.read_csv('./data/tracks.csv')\n",
    "df_tracks.head()"
   ]
  },
  {
   "cell_type": "markdown",
   "id": "5d74edd0-275f-4f39-ac8d-1e843427d0f3",
   "metadata": {},
   "source": [
    "# Select playlist to update"
   ]
  },
  {
   "cell_type": "code",
   "execution_count": 10,
   "id": "fba82f26-1251-4c63-9a49-ee542fc85046",
   "metadata": {
    "tags": []
   },
   "outputs": [
    {
     "data": {
      "text/html": [
       "<div>\n",
       "<style scoped>\n",
       "    .dataframe tbody tr th:only-of-type {\n",
       "        vertical-align: middle;\n",
       "    }\n",
       "\n",
       "    .dataframe tbody tr th {\n",
       "        vertical-align: top;\n",
       "    }\n",
       "\n",
       "    .dataframe thead th {\n",
       "        text-align: right;\n",
       "    }\n",
       "</style>\n",
       "<table border=\"1\" class=\"dataframe\">\n",
       "  <thead>\n",
       "    <tr style=\"text-align: right;\">\n",
       "      <th></th>\n",
       "      <th>id</th>\n",
       "      <th>name</th>\n",
       "      <th>tracks.total</th>\n",
       "    </tr>\n",
       "  </thead>\n",
       "  <tbody>\n",
       "    <tr>\n",
       "      <th>1</th>\n",
       "      <td>730Ce3gbzbasRtac5l8eXs</td>\n",
       "      <td>My Songs</td>\n",
       "      <td>1076</td>\n",
       "    </tr>\n",
       "  </tbody>\n",
       "</table>\n",
       "</div>"
      ],
      "text/plain": [
       "                       id      name  tracks.total\n",
       "1  730Ce3gbzbasRtac5l8eXs  My Songs          1076"
      ]
     },
     "execution_count": 10,
     "metadata": {},
     "output_type": "execute_result"
    }
   ],
   "source": [
    "playlist_id = '730Ce3gbzbasRtac5l8eXs'\n",
    "\n",
    "df_playlist[df_playlist['id'] == playlist_id]"
   ]
  },
  {
   "cell_type": "markdown",
   "id": "44879500-2526-43bc-9035-e7b82676349f",
   "metadata": {},
   "source": [
    "# Remove tracks from playlist\n",
    "Do this before adding shuffled tracks to avoid duplicated tracks in your playlist."
   ]
  },
  {
   "cell_type": "code",
   "execution_count": 11,
   "id": "b570db6f-c420-4dc5-98dc-58d616e7eecd",
   "metadata": {
    "tags": []
   },
   "outputs": [
    {
     "data": {
      "text/html": [
       "<div>\n",
       "<style scoped>\n",
       "    .dataframe tbody tr th:only-of-type {\n",
       "        vertical-align: middle;\n",
       "    }\n",
       "\n",
       "    .dataframe tbody tr th {\n",
       "        vertical-align: top;\n",
       "    }\n",
       "\n",
       "    .dataframe thead th {\n",
       "        text-align: right;\n",
       "    }\n",
       "</style>\n",
       "<table border=\"1\" class=\"dataframe\">\n",
       "  <thead>\n",
       "    <tr style=\"text-align: right;\">\n",
       "      <th></th>\n",
       "      <th>href</th>\n",
       "      <th>track.id</th>\n",
       "      <th>track.name</th>\n",
       "      <th>playlist_id</th>\n",
       "      <th>group</th>\n",
       "    </tr>\n",
       "  </thead>\n",
       "  <tbody>\n",
       "    <tr>\n",
       "      <th>0</th>\n",
       "      <td>https://api.spotify.com/v1/playlists/730Ce3gbz...</td>\n",
       "      <td>0VjIjW4GlUZAMYd2vXMi3b</td>\n",
       "      <td>Blinding Lights</td>\n",
       "      <td>730Ce3gbzbasRtac5l8eXs</td>\n",
       "      <td>1</td>\n",
       "    </tr>\n",
       "    <tr>\n",
       "      <th>1</th>\n",
       "      <td>https://api.spotify.com/v1/playlists/730Ce3gbz...</td>\n",
       "      <td>4jPy3l0RUwlUI9T5XHBW2m</td>\n",
       "      <td>Mood (feat. iann dior)</td>\n",
       "      <td>730Ce3gbzbasRtac5l8eXs</td>\n",
       "      <td>1</td>\n",
       "    </tr>\n",
       "    <tr>\n",
       "      <th>2</th>\n",
       "      <td>https://api.spotify.com/v1/playlists/730Ce3gbz...</td>\n",
       "      <td>2tGvwE8GcFKwNdAXMnlbfl</td>\n",
       "      <td>happier</td>\n",
       "      <td>730Ce3gbzbasRtac5l8eXs</td>\n",
       "      <td>1</td>\n",
       "    </tr>\n",
       "    <tr>\n",
       "      <th>3</th>\n",
       "      <td>https://api.spotify.com/v1/playlists/730Ce3gbz...</td>\n",
       "      <td>7qEHsqek33rTcFNT9PFqLf</td>\n",
       "      <td>Someone You Loved</td>\n",
       "      <td>730Ce3gbzbasRtac5l8eXs</td>\n",
       "      <td>1</td>\n",
       "    </tr>\n",
       "    <tr>\n",
       "      <th>4</th>\n",
       "      <td>https://api.spotify.com/v1/playlists/730Ce3gbz...</td>\n",
       "      <td>0u2P5u6lvoDfwTYjAADbn4</td>\n",
       "      <td>lovely (with Khalid)</td>\n",
       "      <td>730Ce3gbzbasRtac5l8eXs</td>\n",
       "      <td>1</td>\n",
       "    </tr>\n",
       "  </tbody>\n",
       "</table>\n",
       "</div>"
      ],
      "text/plain": [
       "                                                href                track.id   \n",
       "0  https://api.spotify.com/v1/playlists/730Ce3gbz...  0VjIjW4GlUZAMYd2vXMi3b  \\\n",
       "1  https://api.spotify.com/v1/playlists/730Ce3gbz...  4jPy3l0RUwlUI9T5XHBW2m   \n",
       "2  https://api.spotify.com/v1/playlists/730Ce3gbz...  2tGvwE8GcFKwNdAXMnlbfl   \n",
       "3  https://api.spotify.com/v1/playlists/730Ce3gbz...  7qEHsqek33rTcFNT9PFqLf   \n",
       "4  https://api.spotify.com/v1/playlists/730Ce3gbz...  0u2P5u6lvoDfwTYjAADbn4   \n",
       "\n",
       "               track.name             playlist_id  group  \n",
       "0         Blinding Lights  730Ce3gbzbasRtac5l8eXs      1  \n",
       "1  Mood (feat. iann dior)  730Ce3gbzbasRtac5l8eXs      1  \n",
       "2                 happier  730Ce3gbzbasRtac5l8eXs      1  \n",
       "3       Someone You Loved  730Ce3gbzbasRtac5l8eXs      1  \n",
       "4    lovely (with Khalid)  730Ce3gbzbasRtac5l8eXs      1  "
      ]
     },
     "execution_count": 11,
     "metadata": {},
     "output_type": "execute_result"
    }
   ],
   "source": [
    "df_delete = df_tracks[df_tracks['playlist_id'] == playlist_id].reset_index(drop = True)\n",
    "df_delete['group'] = (df_delete.index // 100) + 1\n",
    "df_delete.head()"
   ]
  },
  {
   "cell_type": "code",
   "execution_count": 12,
   "id": "a22a5dc7-4065-4452-a681-96add09c546d",
   "metadata": {
    "tags": []
   },
   "outputs": [
    {
     "name": "stdout",
     "output_type": "stream",
     "text": [
      "Done group 1\n",
      "Done group 2\n",
      "Done group 3\n",
      "Done group 4\n",
      "Done group 5\n",
      "Done group 6\n",
      "Done group 7\n",
      "Done group 8\n",
      "Done group 9\n",
      "Done group 10\n",
      "Done group 11\n"
     ]
    }
   ],
   "source": [
    "for i in df_delete['group'].unique():\n",
    "    df_tmp = df_delete[df_delete['group'] == i]\n",
    "    tracks = df_tmp['track.id'].apply(lambda x: {'uri': 'spotify:track:' + x}).tolist()\n",
    "    remove_tracks_playlist(playlist_id, tracks, access_token)\n",
    "    print('Done group ' + str(i))"
   ]
  },
  {
   "cell_type": "markdown",
   "id": "9655d31d-8f90-4301-91ce-e25ca2d526f1",
   "metadata": {},
   "source": [
    "# Add tracks to playlist\n",
    "Add the tracks back to your playlist based on a random shuffle using `random_state = 42`.\n",
    "\n",
    "To create a new random shuffle, simply change the `random_state` variable to another number to get a new shuffle state."
   ]
  },
  {
   "cell_type": "code",
   "execution_count": 13,
   "id": "7bd99324-1575-494f-960c-71af9d2fe16c",
   "metadata": {},
   "outputs": [
    {
     "data": {
      "text/html": [
       "<div>\n",
       "<style scoped>\n",
       "    .dataframe tbody tr th:only-of-type {\n",
       "        vertical-align: middle;\n",
       "    }\n",
       "\n",
       "    .dataframe tbody tr th {\n",
       "        vertical-align: top;\n",
       "    }\n",
       "\n",
       "    .dataframe thead th {\n",
       "        text-align: right;\n",
       "    }\n",
       "</style>\n",
       "<table border=\"1\" class=\"dataframe\">\n",
       "  <thead>\n",
       "    <tr style=\"text-align: right;\">\n",
       "      <th></th>\n",
       "      <th>href</th>\n",
       "      <th>track.id</th>\n",
       "      <th>track.name</th>\n",
       "      <th>playlist_id</th>\n",
       "      <th>group</th>\n",
       "    </tr>\n",
       "  </thead>\n",
       "  <tbody>\n",
       "    <tr>\n",
       "      <th>0</th>\n",
       "      <td>https://api.spotify.com/v1/playlists/730Ce3gbz...</td>\n",
       "      <td>5x5JM1BSB6vollcIzDocqT</td>\n",
       "      <td>The Climb</td>\n",
       "      <td>730Ce3gbzbasRtac5l8eXs</td>\n",
       "      <td>1</td>\n",
       "    </tr>\n",
       "    <tr>\n",
       "      <th>1</th>\n",
       "      <td>https://api.spotify.com/v1/playlists/730Ce3gbz...</td>\n",
       "      <td>05mAIVLkIWc2d1UBYZBCp8</td>\n",
       "      <td>1999</td>\n",
       "      <td>730Ce3gbzbasRtac5l8eXs</td>\n",
       "      <td>1</td>\n",
       "    </tr>\n",
       "    <tr>\n",
       "      <th>2</th>\n",
       "      <td>https://api.spotify.com/v1/playlists/730Ce3gbz...</td>\n",
       "      <td>5ojMDcYCghyRb4JSI7JL0Z</td>\n",
       "      <td>Starving</td>\n",
       "      <td>730Ce3gbzbasRtac5l8eXs</td>\n",
       "      <td>1</td>\n",
       "    </tr>\n",
       "    <tr>\n",
       "      <th>3</th>\n",
       "      <td>https://api.spotify.com/v1/playlists/730Ce3gbz...</td>\n",
       "      <td>1CuzzAbJ4q28V5JOLCzQVp</td>\n",
       "      <td>Starstrukk</td>\n",
       "      <td>730Ce3gbzbasRtac5l8eXs</td>\n",
       "      <td>1</td>\n",
       "    </tr>\n",
       "    <tr>\n",
       "      <th>4</th>\n",
       "      <td>https://api.spotify.com/v1/playlists/730Ce3gbz...</td>\n",
       "      <td>69RbpGQQzJopGwkiNvOxws</td>\n",
       "      <td>Papamericano</td>\n",
       "      <td>730Ce3gbzbasRtac5l8eXs</td>\n",
       "      <td>1</td>\n",
       "    </tr>\n",
       "  </tbody>\n",
       "</table>\n",
       "</div>"
      ],
      "text/plain": [
       "                                                href                track.id   \n",
       "0  https://api.spotify.com/v1/playlists/730Ce3gbz...  5x5JM1BSB6vollcIzDocqT  \\\n",
       "1  https://api.spotify.com/v1/playlists/730Ce3gbz...  05mAIVLkIWc2d1UBYZBCp8   \n",
       "2  https://api.spotify.com/v1/playlists/730Ce3gbz...  5ojMDcYCghyRb4JSI7JL0Z   \n",
       "3  https://api.spotify.com/v1/playlists/730Ce3gbz...  1CuzzAbJ4q28V5JOLCzQVp   \n",
       "4  https://api.spotify.com/v1/playlists/730Ce3gbz...  69RbpGQQzJopGwkiNvOxws   \n",
       "\n",
       "     track.name             playlist_id  group  \n",
       "0     The Climb  730Ce3gbzbasRtac5l8eXs      1  \n",
       "1          1999  730Ce3gbzbasRtac5l8eXs      1  \n",
       "2      Starving  730Ce3gbzbasRtac5l8eXs      1  \n",
       "3    Starstrukk  730Ce3gbzbasRtac5l8eXs      1  \n",
       "4  Papamericano  730Ce3gbzbasRtac5l8eXs      1  "
      ]
     },
     "execution_count": 13,
     "metadata": {},
     "output_type": "execute_result"
    }
   ],
   "source": [
    "df_add = df_tracks[df_tracks['playlist_id'] == playlist_id].sample(frac = 1, random_state = 42)\n",
    "df_add = df_add.reset_index(drop = True)\n",
    "df_add['group'] = (df_add.index // 100) + 1\n",
    "df_add.head()"
   ]
  },
  {
   "cell_type": "code",
   "execution_count": 14,
   "id": "12dde870-1992-48d9-ad17-d00c1189fde4",
   "metadata": {
    "tags": []
   },
   "outputs": [
    {
     "name": "stdout",
     "output_type": "stream",
     "text": [
      "Done group 1\n",
      "Done group 2\n",
      "Done group 3\n",
      "Done group 4\n",
      "Done group 5\n",
      "Done group 6\n",
      "Done group 7\n",
      "Done group 8\n",
      "Done group 9\n",
      "Done group 10\n",
      "Done group 11\n"
     ]
    }
   ],
   "source": [
    "for i in df_add['group'].unique():\n",
    "    df_tmp = df_add[df_add['group'] == i]\n",
    "    tracks = ('spotify:track:' + df_tmp['track.id']).str.cat(sep=',')\n",
    "    add_playlists_tracks(playlist_id, tracks, access_token)\n",
    "    print('Done group ' + str(i))"
   ]
  }
 ],
 "metadata": {
  "kernelspec": {
   "display_name": "Python 3 (ipykernel)",
   "language": "python",
   "name": "python3"
  },
  "language_info": {
   "codemirror_mode": {
    "name": "ipython",
    "version": 3
   },
   "file_extension": ".py",
   "mimetype": "text/x-python",
   "name": "python",
   "nbconvert_exporter": "python",
   "pygments_lexer": "ipython3",
   "version": "3.11.3"
  }
 },
 "nbformat": 4,
 "nbformat_minor": 5
}
